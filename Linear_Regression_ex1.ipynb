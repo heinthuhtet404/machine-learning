{
  "nbformat": 4,
  "nbformat_minor": 0,
  "metadata": {
    "colab": {
      "provenance": [],
      "authorship_tag": "ABX9TyNKUk1cJluKIR+2kIGsF4rW",
      "include_colab_link": true
    },
    "kernelspec": {
      "name": "python3",
      "display_name": "Python 3"
    },
    "language_info": {
      "name": "python"
    }
  },
  "cells": [
    {
      "cell_type": "markdown",
      "metadata": {
        "id": "view-in-github",
        "colab_type": "text"
      },
      "source": [
        "<a href=\"https://colab.research.google.com/github/heinthuhtet404/machine-learning/blob/main/Linear_Regression_ex1.ipynb\" target=\"_parent\"><img src=\"https://colab.research.google.com/assets/colab-badge.svg\" alt=\"Open In Colab\"/></a>"
      ]
    },
    {
      "cell_type": "code",
      "execution_count": 22,
      "metadata": {
        "id": "wkWb0c_j4pgO"
      },
      "outputs": [],
      "source": [
        "import numpy as np\n",
        "\n",
        "def load_data():\n",
        "  data = np.loadtxt(\"/content/ex1data1.txt\", delimiter = ',')\n",
        "  X = data[:,0]\n",
        "  y = data[:,1]\n",
        "  return X,y\n",
        "\n",
        "def load_data_multi():\n",
        "  data = np.loadtxt(\"/content/ex1data2.txt\", delimiter = ',')\n",
        "  X = data[:,:2]\n",
        "  y = data[:,2]\n",
        "  return X,y"
      ]
    },
    {
      "cell_type": "code",
      "source": [
        "import numpy as np\n",
        "import matplotlib.pyplot as plt\n",
        "import copy\n",
        "import math\n",
        "%matplotlib inline"
      ],
      "metadata": {
        "id": "tXXaxcjx5UU1"
      },
      "execution_count": 23,
      "outputs": []
    },
    {
      "cell_type": "code",
      "source": [
        "x_train, y_train = load_data()"
      ],
      "metadata": {
        "id": "ZGt7pkBH6izf"
      },
      "execution_count": 24,
      "outputs": []
    },
    {
      "cell_type": "code",
      "source": [
        "#print x_train\n",
        "print(\"Type of x_train:\",type(x_train))\n",
        "print(\"First five elements of x_train are :\\n\", x_train[:5])"
      ],
      "metadata": {
        "colab": {
          "base_uri": "https://localhost:8080/"
        },
        "id": "c-sC3UWd6oJd",
        "outputId": "2170aaf1-0993-4433-8b78-ef42c3571fa4"
      },
      "execution_count": 25,
      "outputs": [
        {
          "output_type": "stream",
          "name": "stdout",
          "text": [
            "Type of x_train: <class 'numpy.ndarray'>\n",
            "First five elements of x_train are :\n",
            " [5.3002 4.8911 7.9832 6.7123 5.2145]\n"
          ]
        }
      ]
    },
    {
      "cell_type": "code",
      "source": [
        "#print y_train\n",
        "print(\"Type of y_train:\",type(y_train))\n",
        "print(\"First five elements of y_train are :\\n\", y_train[:5])"
      ],
      "metadata": {
        "colab": {
          "base_uri": "https://localhost:8080/"
        },
        "id": "JiEzy5sw7NmS",
        "outputId": "406c6769-203f-41a2-dd18-9758e092d0ce"
      },
      "execution_count": 26,
      "outputs": [
        {
          "output_type": "stream",
          "name": "stdout",
          "text": [
            "Type of y_train: <class 'numpy.ndarray'>\n",
            "First five elements of y_train are :\n",
            " [16.1257  8.7324 14.0285 12.5519  7.3928]\n"
          ]
        }
      ]
    },
    {
      "cell_type": "code",
      "source": [
        "print(\"The shape of x_trian is : \", x_train.shape)\n",
        "print(\"The shape of y_train is : \", y_train.shape)\n",
        "print(\"Number of training examples (m) : \", len(x_train))"
      ],
      "metadata": {
        "colab": {
          "base_uri": "https://localhost:8080/"
        },
        "id": "J9uwSUgu7lAF",
        "outputId": "c1bf55c3-1b97-4449-e11c-a99fb5a05f3a"
      },
      "execution_count": 27,
      "outputs": [
        {
          "output_type": "stream",
          "name": "stdout",
          "text": [
            "The shape of x_trian is :  (109,)\n",
            "The shape of y_train is :  (109,)\n",
            "Number of training examples (m) :  109\n"
          ]
        }
      ]
    },
    {
      "cell_type": "code",
      "source": [
        "#Create a scatter plot of the data. To change the markers to red \"x\"\n",
        "#we used the 'marker' and 'c' parameters\n",
        "plt.scatter(x_train, y_train, marker=\"x\", c=\"r\")\n",
        "\n",
        "#Set the title\n",
        "plt.title(\"Profits vs Population per city\")\n",
        "\n",
        "#Set the x-axis label\n",
        "plt.xlabel(\"Population of city in 10,000s\")\n",
        "\n",
        "#Set the y-axis label\n",
        "plt.ylabel(\"Profit in $10,000\")\n",
        "\n",
        "plt.show()"
      ],
      "metadata": {
        "colab": {
          "base_uri": "https://localhost:8080/",
          "height": 472
        },
        "id": "g7GDMU998COa",
        "outputId": "889f892b-293b-41c6-e8a6-9dc640f8229e"
      },
      "execution_count": 28,
      "outputs": [
        {
          "output_type": "display_data",
          "data": {
            "text/plain": [
              "<Figure size 640x480 with 1 Axes>"
            ],
            "image/png": "[encoded data removed]"
          },
          "metadata": {}
        }
      ]
    },
    {
      "cell_type": "code",
      "source": [
        "#UNQ_C1\n",
        "#GRADED FUNCTION: compute_cost\n",
        "\n",
        "def compute_cost(x, y, w, b):\n",
        "\n",
        "  #number of training examples\n",
        "  m = x.shape[0]\n",
        "\n",
        "  #You need to return this variable correctly\n",
        "  total_cost = 0\n",
        "\n",
        "  ###START CODE HERE###\n",
        "  fwb = np.zeros((m,1))\n",
        "  cost = np.zeros((m,1))\n",
        "\n",
        "  for i in range(m):\n",
        "\n",
        "    fwb[i] = w*x[i] + b\n",
        "    cost[i] = (fwb[i] - y[i]) ** 2\n",
        "\n",
        "  total_cost = np.sum(cost)/(2*m)\n",
        "\n",
        "  ###END CODE HERE###\n",
        "\n",
        "  return total_cost"
      ],
      "metadata": {
        "id": "-aEQVYAm9Xqa"
      },
      "execution_count": 29,
      "outputs": []
    },
    {
      "cell_type": "code",
      "source": [
        "#Compute cost with some initial values for parameters w, b\n",
        "initial_w = 2\n",
        "initial_b = 1\n",
        "\n",
        "cost = compute_cost(x_train, y_train, initial_w, initial_b)\n",
        "print(type(cost))\n",
        "print(f'Cost at initial w: {cost: 3f}')"
      ],
      "metadata": {
        "colab": {
          "base_uri": "https://localhost:8080/"
        },
        "id": "-bKMLeUXAsV8",
        "outputId": "c8b130b4-505d-4091-88e3-29697ce258ae"
      },
      "execution_count": 30,
      "outputs": [
        {
          "output_type": "stream",
          "name": "stdout",
          "text": [
            "<class 'numpy.float64'>\n",
            "Cost at initial w:  39.673171\n"
          ]
        }
      ]
    },
    {
      "cell_type": "code",
      "source": [
        "#UNC_C2\n",
        "#GRADED FUNCTION: compute_gradient\n",
        "\n",
        "def compute_gradient(x, y, w, b):\n",
        "\n",
        "  #Number of training examples\n",
        "  m = x.shape[0]\n",
        "\n",
        "  #You need to return the following variables correctly\n",
        "  dj_dw = 0\n",
        "  dj_db = 0\n",
        "\n",
        "  ###START CODE HERE###\n",
        "  for i in range(m):\n",
        "    f_wb = w * x[i] + b\n",
        "    dj_dw_i = (f_wb - y[i]) * x[i]\n",
        "    dj_db_i = (f_wb - y[i])\n",
        "    dj_dw += dj_dw_i\n",
        "    dj_db += dj_db_i\n",
        "\n",
        "  dj_dw = dj_dw / m\n",
        "  dj_db = dj_db / m\n",
        "\n",
        "  ###END CODE HERE###\n",
        "  return dj_dw,dj_db\n"
      ],
      "metadata": {
        "id": "Ajg_GI_lBmrH"
      },
      "execution_count": 31,
      "outputs": []
    },
    {
      "cell_type": "code",
      "source": [
        "#Compute and display gradient with w initialized to zeroes\n",
        "initial_w = 0\n",
        "initial_b = 0\n",
        "\n",
        "tmp_dj_dw, tmp_dj_db = compute_gradient(x_train, y_train, initial_w, initial_b)\n",
        "print('Gradient at initial w, b  (zeros) : ', tmp_dj_dw, tmp_dj_db)"
      ],
      "metadata": {
        "colab": {
          "base_uri": "https://localhost:8080/"
        },
        "id": "Rj_0ct7iDiSq",
        "outputId": "06c62352-2a3a-4b87-c255-a60107dd7928"
      },
      "execution_count": 32,
      "outputs": [
        {
          "output_type": "stream",
          "name": "stdout",
          "text": [
            "Gradient at initial w, b  (zeros) :  -84.10323414284402 -8.605754128440367\n"
          ]
        }
      ]
    },
    {
      "cell_type": "code",
      "source": [
        "test_w = 0.2\n",
        "test_b = 0.2\n",
        "tmp_dj_dw, tmp_dj_db = compute_gradient(x_train, y_train, test_w, test_b)\n",
        "print('Gradient at test w, b: ', tmp_dj_dw, tmp_dj_db)"
      ],
      "metadata": {
        "colab": {
          "base_uri": "https://localhost:8080/"
        },
        "id": "aGcmwrWEFDXp",
        "outputId": "733a2add-cfa6-45d2-a273-562eb1b5ef4d"
      },
      "execution_count": 33,
      "outputs": [
        {
          "output_type": "stream",
          "name": "stdout",
          "text": [
            "Gradient at test w, b:  -67.87362185176147 -6.874005871559633\n"
          ]
        }
      ]
    },
    {
      "cell_type": "code",
      "source": [
        "def gradient_descent(x, y, w_in, b_in, cost_function, gradient_function, alpha, num_iters):\n",
        "\n",
        "  #number of training examples\n",
        "  m = len(x)\n",
        "\n",
        "  #An array to store cost J and w's at each iteratoin - primarily for graphing later\n",
        "  J_history = []\n",
        "  w_history = []\n",
        "  w = copy.deepcopy(w_in) #avoid modifying global w within fuction\n",
        "  b = b_in\n",
        "\n",
        "  for i in range(num_iters):\n",
        "\n",
        "    #Calculate the gradient and update the parameters\n",
        "    dj_dw, dj_db = gradient_function(x, y, w, b)\n",
        "\n",
        "    #Update the parameter using w, b, alpha and gradient\n",
        "    w = w - alpha * dj_dw\n",
        "    b = b - alpha * dj_db\n",
        "\n",
        "    #Save cost J at each iteration\n",
        "    if i<100000:  #prevent resource exhaustion\n",
        "      cost = cost_function(x, y, w, b)\n",
        "      J_history.append(cost)\n",
        "\n",
        "    #Print cost every at intervals 10 times or as many iterations if < 10\n",
        "    if i% math.ceil(num_iters/10) == 0:\n",
        "      w_history.append(w)\n",
        "      print(f'Iteration {i:4}: Cost {float(J_history[-1]):8.2f} ')\n",
        "\n",
        "  return w, b , J_history, w_history #return w and J,w history for graphing\n",
        "\n"
      ],
      "metadata": {
        "id": "_J9H8-P_GBZz"
      },
      "execution_count": 34,
      "outputs": []
    },
    {
      "cell_type": "code",
      "source": [
        "#initialize fitting parameters. Recall that the shape of w is (n,)\n",
        "initial_w = 0.\n",
        "initial_b = 0.\n",
        "\n",
        "#some gradient descent settings\n",
        "iterations = 1500\n",
        "alpha = 0.01\n",
        "\n",
        "w,b,_,_ = gradient_descent(x_train, y_train, initial_w, initial_b, compute_cost, compute_gradient, alpha, iterations)\n",
        "print(\"w,b found by gradient descent : \", w, b)"
      ],
      "metadata": {
        "colab": {
          "base_uri": "https://localhost:8080/"
        },
        "id": "LV6OBBquJl7E",
        "outputId": "5546571d-029d-4b77-9a02-2f7dbfd1a78a"
      },
      "execution_count": 35,
      "outputs": [
        {
          "output_type": "stream",
          "name": "stdout",
          "text": [
            "Iteration    0: Cost     8.76 \n",
            "Iteration  150: Cost     5.55 \n",
            "Iteration  300: Cost     5.53 \n",
            "Iteration  450: Cost     5.52 \n",
            "Iteration  600: Cost     5.51 \n",
            "Iteration  750: Cost     5.51 \n",
            "Iteration  900: Cost     5.50 \n",
            "Iteration 1050: Cost     5.50 \n",
            "Iteration 1200: Cost     5.50 \n",
            "Iteration 1350: Cost     5.50 \n",
            "w,b found by gradient descent :  1.2218618234287495 -0.7431383487779263\n"
          ]
        }
      ]
    },
    {
      "cell_type": "code",
      "source": [
        "m = x_train.shape[0]\n",
        "predicted = np.zeros(m)\n",
        "\n",
        "for i in range(m):\n",
        "  predicted[i] = w * x_train[i] + b"
      ],
      "metadata": {
        "id": "Wcd7Ao4oKrLV"
      },
      "execution_count": 36,
      "outputs": []
    },
    {
      "cell_type": "code",
      "source": [
        "#Plot the linear fit\n",
        "plt.plot(x_train, predicted, c = \"b\")\n",
        "\n",
        "#Create a scatter plot of the data\n",
        "plt.scatter(x_train, y_train, marker='x', c='r')\n",
        "\n",
        "#Set the title\n",
        "plt.title(\"Profits vs Population per city\")\n",
        "\n",
        "#Set the y-axis label\n",
        "plt.ylabel(\"Profit in $10,000\")\n",
        "\n",
        "#Set the x-axis label\n",
        "plt.xlabel(\"Population of city in 10,000s\")"
      ],
      "metadata": {
        "colab": {
          "base_uri": "https://localhost:8080/",
          "height": 489
        },
        "id": "ZXKs4DMDLL0q",
        "outputId": "5ea5d14d-30d9-490d-daa1-36af7699a698"
      },
      "execution_count": 37,
      "outputs": [
        {
          "output_type": "execute_result",
          "data": {
            "text/plain": [
              "Text(0.5, 0, 'Population of city in 10,000s')"
            ]
          },
          "metadata": {},
          "execution_count": 37
        },
        {
          "output_type": "display_data",
          "data": {
            "text/plain": [
              "<Figure size 640x480 with 1 Axes>"
            ],
            "image/png": "[encoded data removed]"
          },
          "metadata": {}
        }
      ]
    },
    {
      "cell_type": "code",
      "source": [
        "predict1 = 3.5 * w + b\n",
        "print('For population = 35,000, we predict a profit of $%.2f' % (predict1 * 10000))\n",
        "\n",
        "predict2 = 7.0 * w + b\n",
        "print('For population = 70,000, we predict a profit of $%.2f' % (predict2 * 10000))"
      ],
      "metadata": {
        "colab": {
          "base_uri": "https://localhost:8080/"
        },
        "id": "ekRiMHOkMYRV",
        "outputId": "d8ecb7f6-b600-4fca-d3dd-855bac684073"
      },
      "execution_count": 38,
      "outputs": [
        {
          "output_type": "stream",
          "name": "stdout",
          "text": [
            "For population = 35,000, we predict a profit of $35333.78\n",
            "For population = 70,000, we predict a profit of $78098.94\n"
          ]
        }
      ]
    },
    {
      "cell_type": "code",
      "source": [],
      "metadata": {
        "id": "fxcDZi-jORnw"
      },
      "execution_count": 38,
      "outputs": []
    }
  ]
}